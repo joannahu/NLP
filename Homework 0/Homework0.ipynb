{
 "cells": [
  {
   "cell_type": "code",
   "execution_count": 2,
   "metadata": {},
   "outputs": [
    {
     "name": "stderr",
     "output_type": "stream",
     "text": [
      "Downloading dataset from http://people.csail.mit.edu/jrennie/20Newsgroups/20news-bydate.tar.gz (14 MB)\n"
     ]
    },
    {
     "name": "stdout",
     "output_type": "stream",
     "text": [
      "Loading 20 newsgroups dataset for categories:\n",
      "data loaded\n",
      "Classification report:\n",
      "                          precision    recall  f1-score   support\n",
      "\n",
      "             alt.atheism       0.66      0.83      0.73       319\n",
      "           comp.graphics       0.42      0.68      0.52       389\n",
      " comp.os.ms-windows.misc       0.44      0.60      0.51       394\n",
      "comp.sys.ibm.pc.hardware       0.46      0.61      0.53       392\n",
      "   comp.sys.mac.hardware       0.49      0.59      0.54       385\n",
      "          comp.windows.x       0.60      0.56      0.58       395\n",
      "            misc.forsale       0.51      0.51      0.51       390\n",
      "               rec.autos       0.72      0.68      0.70       396\n",
      "         rec.motorcycles       0.83      0.83      0.83       398\n",
      "      rec.sport.baseball       0.72      0.76      0.74       397\n",
      "        rec.sport.hockey       0.82      0.79      0.81       399\n",
      "               sci.crypt       0.79      0.81      0.80       396\n",
      "         sci.electronics       0.69      0.50      0.58       393\n",
      "                 sci.med       0.77      0.51      0.61       396\n",
      "               sci.space       0.82      0.73      0.77       394\n",
      "  soc.religion.christian       0.84      0.78      0.81       398\n",
      "      talk.politics.guns       0.76      0.69      0.72       364\n",
      "   talk.politics.mideast       0.96      0.71      0.82       376\n",
      "      talk.politics.misc       0.85      0.56      0.68       310\n",
      "      talk.religion.misc       0.78      0.49      0.60       251\n",
      "\n",
      "             avg / total       0.69      0.66      0.67      7532\n",
      "\n"
     ]
    }
   ],
   "source": [
    "from sklearn.datasets import fetch_20newsgroups\n",
    "from sklearn.feature_extraction.text import TfidfVectorizer\n",
    "import sklearn.metrics\n",
    "import sklearn.neighbors\n",
    "\n",
    "print(\"Loading 20 newsgroups dataset for categories:\")\n",
    "data_train = fetch_20newsgroups(subset='train', shuffle=True, random_state=42)\n",
    "data_test = fetch_20newsgroups(subset='test', shuffle=True, random_state=42)\n",
    "print('data loaded')\n",
    "\n",
    "'''Create tf-idf vectors for the input'''\n",
    "vectorizer = TfidfVectorizer(sublinear_tf=True, max_df=0.9,\n",
    "                                 stop_words='english')\n",
    "X_train = vectorizer.fit_transform(data_train.data)\n",
    "X_test = vectorizer.transform(data_test.data)\n",
    "y_train = data_train.target\n",
    "y_test = data_test.target\n"
   ]
  },
  {
   "cell_type": "code",
   "execution_count": 6,
   "metadata": {},
   "outputs": [],
   "source": [
    "weights = 'uniform'\n",
    "neighbors = []\n",
    "scores = []\n",
    "for n_neighbors in range(2, 50):\n",
    "    '''Train a K-Neighbors Classifier on the data'''\n",
    "    clf = sklearn.neighbors.KNeighborsClassifier(n_neighbors, weights=weights)\n",
    "    clf.fit(X_train, y_train)\n",
    "\n",
    "    '''Make predictions on the test data using the trained classifier'''\n",
    "    y_predicted = clf.predict(X_test)\n",
    "    f1_score = sklearn.metrics.f1_score(y_test, y_predicted, average='weighted')\n",
    "    \n",
    "    '''add for plot'''\n",
    "    neighbors.append(n_neighbors)\n",
    "    scores.append(f1_score)\n",
    "\n"
   ]
  },
  {
   "cell_type": "code",
   "execution_count": 7,
   "metadata": {},
   "outputs": [
    {
     "data": {
      "image/png": "[encoded data removed]",
      "text/plain": [
       "<matplotlib.figure.Figure at 0x119299ba8>"
      ]
     },
     "metadata": {},
     "output_type": "display_data"
    }
   ],
   "source": [
    "'''plot'''\n",
    "import matplotlib.pyplot as plt\n",
    "plt.plot(neighbors,scores)\n",
    "plt.xlabel('number of neighbors')\n",
    "plt.ylabel('f1_score')\n",
    "plt.show()"
   ]
  },
  {
   "cell_type": "code",
   "execution_count": null,
   "metadata": {
    "collapsed": true
   },
   "outputs": [],
   "source": []
  }
 ],
 "metadata": {
  "kernelspec": {
   "display_name": "Python 3",
   "language": "python",
   "name": "python3"
  },
  "language_info": {
   "codemirror_mode": {
    "name": "ipython",
    "version": 3
   },
   "file_extension": ".py",
   "mimetype": "text/x-python",
   "name": "python",
   "nbconvert_exporter": "python",
   "pygments_lexer": "ipython3",
   "version": "3.6.1"
  }
 },
 "nbformat": 4,
 "nbformat_minor": 2
}
